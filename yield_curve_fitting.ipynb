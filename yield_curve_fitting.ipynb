{
  "nbformat": 4,
  "nbformat_minor": 0,
  "metadata": {
    "colab": {
      "provenance": [],
      "authorship_tag": "ABX9TyM7R75b4QGGsGBAAPLlofGX",
      "include_colab_link": true
    },
    "kernelspec": {
      "name": "python3",
      "display_name": "Python 3"
    },
    "language_info": {
      "name": "python"
    }
  },
  "cells": [
    {
      "cell_type": "markdown",
      "metadata": {
        "id": "view-in-github",
        "colab_type": "text"
      },
      "source": [
        "<a href=\"https://colab.research.google.com/github/newmantic/Nelson_Siegel/blob/main/yield_curve_fitting.ipynb\" target=\"_parent\"><img src=\"https://colab.research.google.com/assets/colab-badge.svg\" alt=\"Open In Colab\"/></a>"
      ]
    },
    {
      "cell_type": "code",
      "execution_count": 1,
      "metadata": {
        "id": "4SKw5gWZi-F4"
      },
      "outputs": [],
      "source": [
        "import numpy as np\n",
        "from scipy.optimize import curve_fit\n",
        "\n",
        "def nelson_siegel(maturities, beta0, beta1, beta2, tau):\n",
        "    \"\"\"\n",
        "    Nelson-Siegel model for yield curve fitting.\n",
        "\n",
        "    Args:\n",
        "        maturities (array-like): Array of bond maturities.\n",
        "        beta0 (float): Long-term level of interest rates.\n",
        "        beta1 (float): Short-term component.\n",
        "        beta2 (float): Medium-term component.\n",
        "        tau (float): Decay factor.\n",
        "\n",
        "    Returns:\n",
        "        np.array: Estimated yields for the given maturities.\n",
        "    \"\"\"\n",
        "    term1 = beta0\n",
        "    term2 = beta1 * (1 - np.exp(-maturities / tau)) / (maturities / tau)\n",
        "    term3 = beta2 * ((1 - np.exp(-maturities / tau)) / (maturities / tau) - np.exp(-maturities / tau))\n",
        "    return term1 + term2 + term3"
      ]
    },
    {
      "cell_type": "code",
      "source": [
        "def fit_yield_curve(maturities, yields):\n",
        "    \"\"\"\n",
        "    Fit the Nelson-Siegel model to observed yield data.\n",
        "\n",
        "    Args:\n",
        "        maturities (array-like): Array of bond maturities.\n",
        "        yields (array-like): Array of observed bond yields corresponding to the maturities.\n",
        "\n",
        "    Returns:\n",
        "        tuple: Fitted parameters (beta0, beta1, beta2, tau).\n",
        "    \"\"\"\n",
        "    # Initial guess for the parameters\n",
        "    initial_params = [0.03, -0.02, 0.02, 1.0]\n",
        "\n",
        "    # Curve fitting\n",
        "    params, _ = curve_fit(nelson_siegel, maturities, yields, p0=initial_params, maxfev=10000)\n",
        "\n",
        "    return params"
      ],
      "metadata": {
        "id": "1cBOgYFwjUjP"
      },
      "execution_count": 4,
      "outputs": []
    },
    {
      "cell_type": "code",
      "source": [
        "def estimate_yield(maturity, params):\n",
        "    \"\"\"\n",
        "    Estimate the yield for a given maturity using the fitted Nelson-Siegel model.\n",
        "\n",
        "    Args:\n",
        "        maturity (float): The maturity for which to estimate the yield.\n",
        "        params (tuple): Fitted parameters from the Nelson-Siegel model.\n",
        "\n",
        "    Returns:\n",
        "        float: Estimated yield for the given maturity.\n",
        "    \"\"\"\n",
        "    return nelson_siegel(np.array([maturity]), *params)[0]"
      ],
      "metadata": {
        "id": "AD67a4xtjXJL"
      },
      "execution_count": 3,
      "outputs": []
    },
    {
      "cell_type": "code",
      "source": [
        "# Example maturities (in years) and observed yields (in decimals)\n",
        "maturities = np.array([1, 2, 3, 5, 7, 10, 20, 30])\n",
        "yields = np.array([0.02, 0.025, 0.03, 0.035, 0.04, 0.045, 0.05, 0.055])\n",
        "\n",
        "# Calculate yields using an example set of parameters\n",
        "beta0, beta1, beta2, tau = 0.03, -0.02, 0.02, 1.0\n",
        "estimated_yields = nelson_siegel(maturities, beta0, beta1, beta2, tau)\n",
        "print(f\"Estimated Yields: {estimated_yields}\")"
      ],
      "metadata": {
        "colab": {
          "base_uri": "https://localhost:8080/"
        },
        "id": "VJ45Tr85jZqX",
        "outputId": "c6bb94de-4abc-4f93-8171-eb56d5e9a807"
      },
      "execution_count": 5,
      "outputs": [
        {
          "output_type": "stream",
          "name": "stdout",
          "text": [
            "Estimated Yields: [0.02264241 0.02729329 0.02900426 0.02986524 0.02998176 0.02999909\n",
            " 0.03       0.03      ]\n"
          ]
        }
      ]
    },
    {
      "cell_type": "code",
      "source": [
        "# Example maturities (in years) and observed yields (in decimals)\n",
        "maturities = np.array([1, 2, 3, 5, 7, 10, 20, 30])\n",
        "yields = np.array([0.02, 0.025, 0.03, 0.035, 0.04, 0.045, 0.05, 0.055])\n",
        "\n",
        "# Fit the yield curve to the observed yields\n",
        "fitted_params = fit_yield_curve(maturities, yields)\n",
        "print(f\"Fitted Parameters: {fitted_params}\")"
      ],
      "metadata": {
        "colab": {
          "base_uri": "https://localhost:8080/"
        },
        "id": "NH1onCr_jdCO",
        "outputId": "50baf117-c539-4361-c637-1dff7db96f83"
      },
      "execution_count": 6,
      "outputs": [
        {
          "output_type": "stream",
          "name": "stdout",
          "text": [
            "Fitted Parameters: [ 5.91011101e-02 -4.48255850e-02  2.18647485e-07  3.43210595e+00]\n"
          ]
        }
      ]
    },
    {
      "cell_type": "code",
      "source": [
        "# Estimate the yield for a 4-year maturity using the fitted parameters\n",
        "maturity = 4\n",
        "estimated_yield = estimate_yield(maturity, fitted_params)\n",
        "print(f\"Estimated Yield for {maturity}-year maturity: {estimated_yield:.4f}\")"
      ],
      "metadata": {
        "colab": {
          "base_uri": "https://localhost:8080/"
        },
        "id": "EcLCpEy2jfnR",
        "outputId": "7d4a986e-9c7e-4942-eda3-fbb1592ec73e"
      },
      "execution_count": 7,
      "outputs": [
        {
          "output_type": "stream",
          "name": "stdout",
          "text": [
            "Estimated Yield for 4-year maturity: 0.0326\n"
          ]
        }
      ]
    }
  ]
}